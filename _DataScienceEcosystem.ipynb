{
 "cells": [
  {
   "cell_type": "markdown",
   "id": "e0513eaf",
   "metadata": {},
   "source": [
    "# Data Science Tools and Ecosystem"
   ]
  },
  {
   "cell_type": "markdown",
   "id": "221a5a3f",
   "metadata": {},
   "source": [
    "## In this notebook, Data Science tools and Ecosystems are summarized\n"
   ]
  },
  {
   "cell_type": "markdown",
   "id": "b2d02f19",
   "metadata": {},
   "source": [
    "## Objectives:\n",
    "1. Popular languages that Data Scientists use\n",
    "2. Some of the commonly used libraries used by Data Scientists\n",
    "3. Open Source Data Science Tools\n",
    "4. Evaulating Arithmetic Expressions\n",
    "5. Conversion of minutes to hours"
   ]
  },
  {
   "cell_type": "markdown",
   "id": "5717c630",
   "metadata": {},
   "source": [
    "### Some of the popular languages that Data Scientists use are:\n",
    "1. Python\n",
    "2. SQL\n",
    "3. R"
   ]
  },
  {
   "cell_type": "markdown",
   "id": "386293e2",
   "metadata": {},
   "source": [
    "### Some of the commonly used libraries used by Data Scientists include:\n",
    "1. matplotlib\n",
    "2. seaborn\n",
    "3. pandas\n",
    "4. numpy\n",
    "5. scikit - learn"
   ]
  },
  {
   "cell_type": "markdown",
   "id": "6924303a",
   "metadata": {},
   "source": [
    "### Data Science Tools\n",
    "1. Jupyter Notebook\n",
    "2. RStudio\n",
    "3. Google Colab"
   ]
  },
  {
   "cell_type": "markdown",
   "id": "65a868a7",
   "metadata": {},
   "source": [
    "### Below are a few examples of evaluating arithmetic expressions in Python\n"
   ]
  },
  {
   "cell_type": "markdown",
   "id": "b004464d",
   "metadata": {},
   "source": [
    "(2*5) + 56"
   ]
  },
  {
   "cell_type": "markdown",
   "id": "55a806c2",
   "metadata": {},
   "source": [
    "(68/19) * 8 + 7 - 76 * 2"
   ]
  },
  {
   "cell_type": "code",
   "execution_count": 3,
   "id": "575ef522",
   "metadata": {},
   "outputs": [
    {
     "data": {
      "text/plain": [
       "17"
      ]
     },
     "execution_count": 3,
     "metadata": {},
     "output_type": "execute_result"
    }
   ],
   "source": [
    "(3*4) + 5"
   ]
  },
  {
   "cell_type": "code",
   "execution_count": 6,
   "id": "08685416",
   "metadata": {},
   "outputs": [
    {
     "data": {
      "text/plain": [
       "3.3333333333333335"
      ]
     },
     "execution_count": 6,
     "metadata": {},
     "output_type": "execute_result"
    }
   ],
   "source": [
    "Total_minutes = 200\n",
    "Total_hours = Total_minutes / 60\n",
    "# This will convert minutes into hours by dividing by 60\n",
    "Total_hours\n"
   ]
  },
  {
   "cell_type": "markdown",
   "id": "72827613",
   "metadata": {},
   "source": [
    "## Author:\n",
    "Diya Varshney"
   ]
  },
  {
   "cell_type": "code",
   "execution_count": null,
   "id": "2d8fce08",
   "metadata": {},
   "outputs": [],
   "source": []
  }
 ],
 "metadata": {
  "kernelspec": {
   "display_name": "Python 3 (ipykernel)",
   "language": "python",
   "name": "python3"
  },
  "language_info": {
   "codemirror_mode": {
    "name": "ipython",
    "version": 3
   },
   "file_extension": ".py",
   "mimetype": "text/x-python",
   "name": "python",
   "nbconvert_exporter": "python",
   "pygments_lexer": "ipython3",
   "version": "3.9.13"
  }
 },
 "nbformat": 4,
 "nbformat_minor": 5
}
